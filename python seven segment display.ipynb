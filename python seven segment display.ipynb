{
 "cells": [
  {
   "cell_type": "markdown",
   "metadata": {},
   "source": [
    "# python seven segment display"
   ]
  },
  {
   "cell_type": "code",
   "execution_count": 20,
   "metadata": {},
   "outputs": [
    {
     "name": "stdout",
     "output_type": "stream",
     "text": [
      "123\n",
      "#\n",
      "#\n",
      "#\n",
      "#\n",
      "#\n",
      "\n",
      "###\n",
      "  #\n",
      "###\n",
      "#  \n",
      "###\n",
      "\n",
      "###\n",
      "  #\n",
      "###\n",
      "  #\n",
      "###\n",
      "\n",
      "\n"
     ]
    }
   ],
   "source": [
    "zero = '###\\n# #\\n# #\\n# #\\n###\\n\\n'\n",
    "one = '#\\n#\\n#\\n#\\n#\\n\\n'\n",
    "two = '###\\n  #\\n###\\n#  \\n###\\n\\n'\n",
    "three = '###\\n  #\\n###\\n  #\\n###\\n\\n'\n",
    "four = '# #\\n# #\\n###\\n  #\\n  #\\n\\n'\n",
    "five = '###\\n#  \\n###\\n  #\\n###\\n\\n'\n",
    "six = '###\\n#  \\n###\\n# #\\n###\\n\\n'\n",
    "seven = '###\\n  #\\n  #\\n  #\\n  #\\n\\n'\n",
    "eight = '###\\n# #\\n###\\n# #\\n###\\n\\n'\n",
    "nine = '###\\n# #\\n###\\n  #\\n###\\n\\n'\n",
    "\n",
    "def display(digit):\n",
    "    digits = \"\"\n",
    "    string_digit = str(digit)\n",
    "    for i in range(len(string_digit)):\n",
    "        digit_s = string_digit[i]\n",
    "        if digit_s == \"0\":\n",
    "            digits += zero\n",
    "        elif digit_s == \"1\":\n",
    "            digits += one\n",
    "        elif digit_s == \"2\":\n",
    "            digits += two\n",
    "        elif digit_s == \"3\":\n",
    "            digits += three\n",
    "        elif digit_s == \"4\":\n",
    "            digits += four\n",
    "        elif digit_s == \"5\":\n",
    "            digits += five\n",
    "        elif digit_s == \"6\":\n",
    "            digits += six\n",
    "        elif digit_s == \"7\":\n",
    "            digits += seven\n",
    "        elif digit_s == \"8\":\n",
    "            digits += eight\n",
    "        elif digit_s == \"9\":\n",
    "            digits += nine\n",
    "    return digits\n",
    "\n",
    "numb = int(input())\n",
    "print(display(numb))"
   ]
  },
  {
   "cell_type": "code",
   "execution_count": null,
   "metadata": {},
   "outputs": [],
   "source": []
  },
  {
   "cell_type": "code",
   "execution_count": null,
   "metadata": {},
   "outputs": [],
   "source": []
  },
  {
   "cell_type": "code",
   "execution_count": null,
   "metadata": {},
   "outputs": [],
   "source": []
  }
 ],
 "metadata": {
  "kernelspec": {
   "display_name": "Python 3",
   "language": "python",
   "name": "python3"
  },
  "language_info": {
   "codemirror_mode": {
    "name": "ipython",
    "version": 3
   },
   "file_extension": ".py",
   "mimetype": "text/x-python",
   "name": "python",
   "nbconvert_exporter": "python",
   "pygments_lexer": "ipython3",
   "version": "3.8.3"
  }
 },
 "nbformat": 4,
 "nbformat_minor": 4
}
